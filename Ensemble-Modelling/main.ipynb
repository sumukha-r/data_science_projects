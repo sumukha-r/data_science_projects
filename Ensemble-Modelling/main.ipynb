{
 "cells": [
  {
   "cell_type": "markdown",
   "id": "2e7559ff",
   "metadata": {},
   "source": [
    "#  Course 5 (Ensemble Learning) - Final Project\n",
    "# Sumukha R "
   ]
  },
  {
   "cell_type": "code",
   "execution_count": 1,
   "id": "c7f14358",
   "metadata": {},
   "outputs": [],
   "source": [
    "# Importing required libraries\n",
    "\n",
    "import numpy as np\n",
    "import pandas as pd\n",
    "import matplotlib.pyplot as plt\n",
    "import seaborn as sns\n",
    "sns.set(style=\"darkgrid\")\n",
    "%matplotlib inline\n",
    "\n",
    "from sklearn.metrics import mean_squared_error as MSE\n",
    "from sklearn.metrics import mean_squared_log_error as MSLE\n",
    "from sklearn.metrics import r2_score\n",
    "\n",
    "import warnings\n",
    "warnings.filterwarnings(\"ignore\")"
   ]
  },
  {
   "cell_type": "code",
   "execution_count": 2,
   "id": "472e1419",
   "metadata": {},
   "outputs": [
    {
     "data": {
      "text/html": [
       "<div>\n",
       "<style scoped>\n",
       "    .dataframe tbody tr th:only-of-type {\n",
       "        vertical-align: middle;\n",
       "    }\n",
       "\n",
       "    .dataframe tbody tr th {\n",
       "        vertical-align: top;\n",
       "    }\n",
       "\n",
       "    .dataframe thead th {\n",
       "        text-align: right;\n",
       "    }\n",
       "</style>\n",
       "<table border=\"1\" class=\"dataframe\">\n",
       "  <thead>\n",
       "    <tr style=\"text-align: right;\">\n",
       "      <th></th>\n",
       "      <th>vendor_id</th>\n",
       "      <th>pickup_datetime</th>\n",
       "      <th>dropoff_datetime</th>\n",
       "      <th>passenger_count</th>\n",
       "      <th>pickup_longitude</th>\n",
       "      <th>pickup_latitude</th>\n",
       "      <th>dropoff_longitude</th>\n",
       "      <th>dropoff_latitude</th>\n",
       "      <th>store_and_fwd_flag</th>\n",
       "      <th>trip_duration</th>\n",
       "    </tr>\n",
       "  </thead>\n",
       "  <tbody>\n",
       "    <tr>\n",
       "      <th>0</th>\n",
       "      <td>2</td>\n",
       "      <td>2016-02-29 16:40:21</td>\n",
       "      <td>2016-02-29 16:47:01</td>\n",
       "      <td>1</td>\n",
       "      <td>-73.953918</td>\n",
       "      <td>40.778873</td>\n",
       "      <td>-73.963875</td>\n",
       "      <td>40.771164</td>\n",
       "      <td>N</td>\n",
       "      <td>400</td>\n",
       "    </tr>\n",
       "    <tr>\n",
       "      <th>1</th>\n",
       "      <td>1</td>\n",
       "      <td>2016-03-11 23:35:37</td>\n",
       "      <td>2016-03-11 23:53:57</td>\n",
       "      <td>2</td>\n",
       "      <td>-73.988312</td>\n",
       "      <td>40.731743</td>\n",
       "      <td>-73.994751</td>\n",
       "      <td>40.694931</td>\n",
       "      <td>N</td>\n",
       "      <td>1100</td>\n",
       "    </tr>\n",
       "    <tr>\n",
       "      <th>2</th>\n",
       "      <td>2</td>\n",
       "      <td>2016-02-21 17:59:33</td>\n",
       "      <td>2016-02-21 18:26:48</td>\n",
       "      <td>2</td>\n",
       "      <td>-73.997314</td>\n",
       "      <td>40.721458</td>\n",
       "      <td>-73.948029</td>\n",
       "      <td>40.774918</td>\n",
       "      <td>N</td>\n",
       "      <td>1635</td>\n",
       "    </tr>\n",
       "    <tr>\n",
       "      <th>3</th>\n",
       "      <td>2</td>\n",
       "      <td>2016-01-05 09:44:31</td>\n",
       "      <td>2016-01-05 10:03:32</td>\n",
       "      <td>6</td>\n",
       "      <td>-73.961670</td>\n",
       "      <td>40.759720</td>\n",
       "      <td>-73.956779</td>\n",
       "      <td>40.780628</td>\n",
       "      <td>N</td>\n",
       "      <td>1141</td>\n",
       "    </tr>\n",
       "    <tr>\n",
       "      <th>4</th>\n",
       "      <td>1</td>\n",
       "      <td>2016-02-17 06:42:23</td>\n",
       "      <td>2016-02-17 06:56:31</td>\n",
       "      <td>1</td>\n",
       "      <td>-74.017120</td>\n",
       "      <td>40.708469</td>\n",
       "      <td>-73.988182</td>\n",
       "      <td>40.740631</td>\n",
       "      <td>N</td>\n",
       "      <td>848</td>\n",
       "    </tr>\n",
       "  </tbody>\n",
       "</table>\n",
       "</div>"
      ],
      "text/plain": [
       "   vendor_id     pickup_datetime    dropoff_datetime  passenger_count  \\\n",
       "0          2 2016-02-29 16:40:21 2016-02-29 16:47:01                1   \n",
       "1          1 2016-03-11 23:35:37 2016-03-11 23:53:57                2   \n",
       "2          2 2016-02-21 17:59:33 2016-02-21 18:26:48                2   \n",
       "3          2 2016-01-05 09:44:31 2016-01-05 10:03:32                6   \n",
       "4          1 2016-02-17 06:42:23 2016-02-17 06:56:31                1   \n",
       "\n",
       "   pickup_longitude  pickup_latitude  dropoff_longitude  dropoff_latitude  \\\n",
       "0        -73.953918        40.778873         -73.963875         40.771164   \n",
       "1        -73.988312        40.731743         -73.994751         40.694931   \n",
       "2        -73.997314        40.721458         -73.948029         40.774918   \n",
       "3        -73.961670        40.759720         -73.956779         40.780628   \n",
       "4        -74.017120        40.708469         -73.988182         40.740631   \n",
       "\n",
       "  store_and_fwd_flag  trip_duration  \n",
       "0                  N            400  \n",
       "1                  N           1100  \n",
       "2                  N           1635  \n",
       "3                  N           1141  \n",
       "4                  N            848  "
      ]
     },
     "execution_count": 2,
     "metadata": {},
     "output_type": "execute_result"
    }
   ],
   "source": [
    "# Dataset\n",
    "df = pd.read_csv(\"nyc_taxi_trip_duration Dataset.csv\", parse_dates=[\"pickup_datetime\", \"dropoff_datetime\"])\n",
    "\n",
    "# id column dropped\n",
    "df.drop(columns=[\"id\"], axis=1, inplace=True)\n",
    "df.head()"
   ]
  },
  {
   "cell_type": "code",
   "execution_count": 3,
   "id": "abf95aa5",
   "metadata": {},
   "outputs": [
    {
     "data": {
      "text/plain": [
       "((729322, 10),\n",
       " vendor_id             0\n",
       " pickup_datetime       0\n",
       " dropoff_datetime      0\n",
       " passenger_count       0\n",
       " pickup_longitude      0\n",
       " pickup_latitude       0\n",
       " dropoff_longitude     0\n",
       " dropoff_latitude      0\n",
       " store_and_fwd_flag    0\n",
       " trip_duration         0\n",
       " dtype: int64)"
      ]
     },
     "execution_count": 3,
     "metadata": {},
     "output_type": "execute_result"
    }
   ],
   "source": [
    "df.shape, df.isna().sum()"
   ]
  },
  {
   "cell_type": "markdown",
   "id": "e3e695c7",
   "metadata": {},
   "source": [
    "### We will be removing pickup_longitude, pickup_latitude, dropoff_longitude, dropoff_latitude and store_and_fwd_flag variables as these variables DO NOT provide any extra info and will lead to model failure.\n",
    "##### (Got this result while performing linear regression - these coefficients were very close to zero) "
   ]
  },
  {
   "cell_type": "code",
   "execution_count": 4,
   "id": "07de73f9",
   "metadata": {},
   "outputs": [
    {
     "data": {
      "text/html": [
       "<div>\n",
       "<style scoped>\n",
       "    .dataframe tbody tr th:only-of-type {\n",
       "        vertical-align: middle;\n",
       "    }\n",
       "\n",
       "    .dataframe tbody tr th {\n",
       "        vertical-align: top;\n",
       "    }\n",
       "\n",
       "    .dataframe thead th {\n",
       "        text-align: right;\n",
       "    }\n",
       "</style>\n",
       "<table border=\"1\" class=\"dataframe\">\n",
       "  <thead>\n",
       "    <tr style=\"text-align: right;\">\n",
       "      <th></th>\n",
       "      <th>vendor_id</th>\n",
       "      <th>pickup_datetime</th>\n",
       "      <th>dropoff_datetime</th>\n",
       "      <th>passenger_count</th>\n",
       "      <th>trip_duration</th>\n",
       "    </tr>\n",
       "  </thead>\n",
       "  <tbody>\n",
       "    <tr>\n",
       "      <th>0</th>\n",
       "      <td>2</td>\n",
       "      <td>2016-02-29 16:40:21</td>\n",
       "      <td>2016-02-29 16:47:01</td>\n",
       "      <td>1</td>\n",
       "      <td>400</td>\n",
       "    </tr>\n",
       "    <tr>\n",
       "      <th>1</th>\n",
       "      <td>1</td>\n",
       "      <td>2016-03-11 23:35:37</td>\n",
       "      <td>2016-03-11 23:53:57</td>\n",
       "      <td>2</td>\n",
       "      <td>1100</td>\n",
       "    </tr>\n",
       "    <tr>\n",
       "      <th>2</th>\n",
       "      <td>2</td>\n",
       "      <td>2016-02-21 17:59:33</td>\n",
       "      <td>2016-02-21 18:26:48</td>\n",
       "      <td>2</td>\n",
       "      <td>1635</td>\n",
       "    </tr>\n",
       "    <tr>\n",
       "      <th>3</th>\n",
       "      <td>2</td>\n",
       "      <td>2016-01-05 09:44:31</td>\n",
       "      <td>2016-01-05 10:03:32</td>\n",
       "      <td>6</td>\n",
       "      <td>1141</td>\n",
       "    </tr>\n",
       "    <tr>\n",
       "      <th>4</th>\n",
       "      <td>1</td>\n",
       "      <td>2016-02-17 06:42:23</td>\n",
       "      <td>2016-02-17 06:56:31</td>\n",
       "      <td>1</td>\n",
       "      <td>848</td>\n",
       "    </tr>\n",
       "  </tbody>\n",
       "</table>\n",
       "</div>"
      ],
      "text/plain": [
       "   vendor_id     pickup_datetime    dropoff_datetime  passenger_count  \\\n",
       "0          2 2016-02-29 16:40:21 2016-02-29 16:47:01                1   \n",
       "1          1 2016-03-11 23:35:37 2016-03-11 23:53:57                2   \n",
       "2          2 2016-02-21 17:59:33 2016-02-21 18:26:48                2   \n",
       "3          2 2016-01-05 09:44:31 2016-01-05 10:03:32                6   \n",
       "4          1 2016-02-17 06:42:23 2016-02-17 06:56:31                1   \n",
       "\n",
       "   trip_duration  \n",
       "0            400  \n",
       "1           1100  \n",
       "2           1635  \n",
       "3           1141  \n",
       "4            848  "
      ]
     },
     "execution_count": 4,
     "metadata": {},
     "output_type": "execute_result"
    }
   ],
   "source": [
    "# Drop columns\n",
    "\n",
    "df.drop(columns=[\"pickup_longitude\",\"pickup_latitude\", \"dropoff_longitude\", \"dropoff_latitude\", \"store_and_fwd_flag\"],\n",
    "        axis=1, inplace=True)\n",
    "df = df.reset_index(drop=True)\n",
    "df.head()"
   ]
  },
  {
   "cell_type": "code",
   "execution_count": 5,
   "id": "23328af5",
   "metadata": {},
   "outputs": [
    {
     "data": {
      "text/html": [
       "<div>\n",
       "<style scoped>\n",
       "    .dataframe tbody tr th:only-of-type {\n",
       "        vertical-align: middle;\n",
       "    }\n",
       "\n",
       "    .dataframe tbody tr th {\n",
       "        vertical-align: top;\n",
       "    }\n",
       "\n",
       "    .dataframe thead th {\n",
       "        text-align: right;\n",
       "    }\n",
       "</style>\n",
       "<table border=\"1\" class=\"dataframe\">\n",
       "  <thead>\n",
       "    <tr style=\"text-align: right;\">\n",
       "      <th></th>\n",
       "      <th>vendor_id</th>\n",
       "      <th>passenger_count</th>\n",
       "      <th>trip_duration</th>\n",
       "      <th>day_of_month</th>\n",
       "      <th>week_of_month</th>\n",
       "      <th>week_of_day</th>\n",
       "      <th>hour_of_day</th>\n",
       "      <th>month_of_year</th>\n",
       "    </tr>\n",
       "  </thead>\n",
       "  <tbody>\n",
       "    <tr>\n",
       "      <th>0</th>\n",
       "      <td>2</td>\n",
       "      <td>1</td>\n",
       "      <td>400</td>\n",
       "      <td>29</td>\n",
       "      <td>9</td>\n",
       "      <td>0</td>\n",
       "      <td>16</td>\n",
       "      <td>2</td>\n",
       "    </tr>\n",
       "    <tr>\n",
       "      <th>1</th>\n",
       "      <td>1</td>\n",
       "      <td>2</td>\n",
       "      <td>1100</td>\n",
       "      <td>11</td>\n",
       "      <td>10</td>\n",
       "      <td>4</td>\n",
       "      <td>23</td>\n",
       "      <td>3</td>\n",
       "    </tr>\n",
       "    <tr>\n",
       "      <th>2</th>\n",
       "      <td>2</td>\n",
       "      <td>2</td>\n",
       "      <td>1635</td>\n",
       "      <td>21</td>\n",
       "      <td>7</td>\n",
       "      <td>6</td>\n",
       "      <td>17</td>\n",
       "      <td>2</td>\n",
       "    </tr>\n",
       "    <tr>\n",
       "      <th>3</th>\n",
       "      <td>2</td>\n",
       "      <td>6</td>\n",
       "      <td>1141</td>\n",
       "      <td>5</td>\n",
       "      <td>1</td>\n",
       "      <td>1</td>\n",
       "      <td>9</td>\n",
       "      <td>1</td>\n",
       "    </tr>\n",
       "    <tr>\n",
       "      <th>4</th>\n",
       "      <td>1</td>\n",
       "      <td>1</td>\n",
       "      <td>848</td>\n",
       "      <td>17</td>\n",
       "      <td>7</td>\n",
       "      <td>2</td>\n",
       "      <td>6</td>\n",
       "      <td>2</td>\n",
       "    </tr>\n",
       "  </tbody>\n",
       "</table>\n",
       "</div>"
      ],
      "text/plain": [
       "   vendor_id  passenger_count  trip_duration  day_of_month  week_of_month  \\\n",
       "0          2                1            400            29              9   \n",
       "1          1                2           1100            11             10   \n",
       "2          2                2           1635            21              7   \n",
       "3          2                6           1141             5              1   \n",
       "4          1                1            848            17              7   \n",
       "\n",
       "   week_of_day  hour_of_day  month_of_year  \n",
       "0            0           16              2  \n",
       "1            4           23              3  \n",
       "2            6           17              2  \n",
       "3            1            9              1  \n",
       "4            2            6              2  "
      ]
     },
     "execution_count": 5,
     "metadata": {},
     "output_type": "execute_result"
    }
   ],
   "source": [
    "# Extracting datetime columns\n",
    "df[\"day_of_month\"] = df[\"pickup_datetime\"].dt.day\n",
    "df[\"week_of_month\"] = df[\"pickup_datetime\"].dt.week\n",
    "df[\"week_of_day\"] = df[\"pickup_datetime\"].dt.weekday\n",
    "df[\"hour_of_day\"] = df[\"pickup_datetime\"].dt.hour\n",
    "df[\"month_of_year\"] = df[\"pickup_datetime\"].dt.month\n",
    "\n",
    "# Dropping datetime columns\n",
    "df.drop(columns=[\"pickup_datetime\", \"dropoff_datetime\"], axis=1, inplace=True)\n",
    "df.head()"
   ]
  },
  {
   "cell_type": "code",
   "execution_count": 6,
   "id": "eb1e645d",
   "metadata": {},
   "outputs": [],
   "source": [
    "# Target and independent variables\n",
    "x = df.drop([\"trip_duration\"], axis=1)\n",
    "y = df[\"trip_duration\"]"
   ]
  },
  {
   "cell_type": "code",
   "execution_count": 7,
   "id": "02b057dd",
   "metadata": {},
   "outputs": [
    {
     "data": {
      "text/html": [
       "<div>\n",
       "<style scoped>\n",
       "    .dataframe tbody tr th:only-of-type {\n",
       "        vertical-align: middle;\n",
       "    }\n",
       "\n",
       "    .dataframe tbody tr th {\n",
       "        vertical-align: top;\n",
       "    }\n",
       "\n",
       "    .dataframe thead th {\n",
       "        text-align: right;\n",
       "    }\n",
       "</style>\n",
       "<table border=\"1\" class=\"dataframe\">\n",
       "  <thead>\n",
       "    <tr style=\"text-align: right;\">\n",
       "      <th></th>\n",
       "      <th>vendor_id</th>\n",
       "      <th>passenger_count</th>\n",
       "      <th>day_of_month</th>\n",
       "      <th>week_of_month</th>\n",
       "      <th>week_of_day</th>\n",
       "      <th>hour_of_day</th>\n",
       "      <th>month_of_year</th>\n",
       "    </tr>\n",
       "  </thead>\n",
       "  <tbody>\n",
       "    <tr>\n",
       "      <th>0</th>\n",
       "      <td>1.0</td>\n",
       "      <td>0.111111</td>\n",
       "      <td>0.933333</td>\n",
       "      <td>0.153846</td>\n",
       "      <td>0.000000</td>\n",
       "      <td>0.695652</td>\n",
       "      <td>0.2</td>\n",
       "    </tr>\n",
       "    <tr>\n",
       "      <th>1</th>\n",
       "      <td>0.0</td>\n",
       "      <td>0.222222</td>\n",
       "      <td>0.333333</td>\n",
       "      <td>0.173077</td>\n",
       "      <td>0.666667</td>\n",
       "      <td>1.000000</td>\n",
       "      <td>0.4</td>\n",
       "    </tr>\n",
       "    <tr>\n",
       "      <th>2</th>\n",
       "      <td>1.0</td>\n",
       "      <td>0.222222</td>\n",
       "      <td>0.666667</td>\n",
       "      <td>0.115385</td>\n",
       "      <td>1.000000</td>\n",
       "      <td>0.739130</td>\n",
       "      <td>0.2</td>\n",
       "    </tr>\n",
       "    <tr>\n",
       "      <th>3</th>\n",
       "      <td>1.0</td>\n",
       "      <td>0.666667</td>\n",
       "      <td>0.133333</td>\n",
       "      <td>0.000000</td>\n",
       "      <td>0.166667</td>\n",
       "      <td>0.391304</td>\n",
       "      <td>0.0</td>\n",
       "    </tr>\n",
       "    <tr>\n",
       "      <th>4</th>\n",
       "      <td>0.0</td>\n",
       "      <td>0.111111</td>\n",
       "      <td>0.533333</td>\n",
       "      <td>0.115385</td>\n",
       "      <td>0.333333</td>\n",
       "      <td>0.260870</td>\n",
       "      <td>0.2</td>\n",
       "    </tr>\n",
       "  </tbody>\n",
       "</table>\n",
       "</div>"
      ],
      "text/plain": [
       "   vendor_id  passenger_count  day_of_month  week_of_month  week_of_day  \\\n",
       "0        1.0         0.111111      0.933333       0.153846     0.000000   \n",
       "1        0.0         0.222222      0.333333       0.173077     0.666667   \n",
       "2        1.0         0.222222      0.666667       0.115385     1.000000   \n",
       "3        1.0         0.666667      0.133333       0.000000     0.166667   \n",
       "4        0.0         0.111111      0.533333       0.115385     0.333333   \n",
       "\n",
       "   hour_of_day  month_of_year  \n",
       "0     0.695652            0.2  \n",
       "1     1.000000            0.4  \n",
       "2     0.739130            0.2  \n",
       "3     0.391304            0.0  \n",
       "4     0.260870            0.2  "
      ]
     },
     "execution_count": 7,
     "metadata": {},
     "output_type": "execute_result"
    }
   ],
   "source": [
    "# Scaling the data\n",
    "from sklearn.preprocessing import MinMaxScaler\n",
    "\n",
    "sc = MinMaxScaler()\n",
    "x_scaled = sc.fit_transform(x)\n",
    "x = pd.DataFrame(x_scaled, columns=x.columns)\n",
    "x.head()"
   ]
  },
  {
   "cell_type": "code",
   "execution_count": 8,
   "id": "14a70900",
   "metadata": {},
   "outputs": [],
   "source": [
    "# Split data\n",
    "from sklearn.model_selection import train_test_split\n",
    "x_train, x_test, y_train, y_test = train_test_split(x, y, random_state=108, test_size=0.25)"
   ]
  },
  {
   "cell_type": "markdown",
   "id": "1df646b4",
   "metadata": {},
   "source": [
    "# K-Nearest Neighbours (KNN) Model  "
   ]
  },
  {
   "cell_type": "code",
   "execution_count": 9,
   "id": "644ba781",
   "metadata": {},
   "outputs": [
    {
     "name": "stdout",
     "output_type": "stream",
     "text": [
      "Train error:\n",
      "RMSE: 4339.481027292941, RMSLE: 0.8719972745871442\n",
      "Test error:\n",
      "RMSE: 4250.210467691982, RMSLE: 0.909057793929828\n"
     ]
    }
   ],
   "source": [
    "# Creating knn model\n",
    "from sklearn.neighbors import KNeighborsRegressor as KNN\n",
    "knn = KNN()\n",
    "\n",
    "# Fit the model\n",
    "knn.fit(x_train, y_train)\n",
    "\n",
    "# Predict results\n",
    "y_pred_train = knn.predict(x_train)\n",
    "y_pred_test = knn.predict(x_test)\n",
    "\n",
    "knn_train_error = MSE(y_pred_train, y_train, squared=False)\n",
    "knn_test_error = MSE(y_pred_test, y_test, squared=False)\n",
    "knn_train_log_error = np.sqrt(MSLE(y_pred_train, y_train))\n",
    "knn_test_log_error = np.sqrt(MSLE(y_pred_test, y_test))\n",
    "\n",
    "print(f\"Train error:\\nRMSE: {knn_train_error}, RMSLE: {knn_train_log_error}\\n\\\n",
    "Test error:\\nRMSE: {knn_test_error}, RMSLE: {knn_test_log_error}\")"
   ]
  },
  {
   "cell_type": "code",
   "execution_count": 10,
   "id": "cbcec1bb",
   "metadata": {},
   "outputs": [],
   "source": [
    "# Elbow curve\n",
    "test_error = []\n",
    "test_log_error = []\n",
    "def elbow(k, x_train, y_train, x_test, y_test):\n",
    "    knn = KNN(n_neighbors=k)\n",
    "    knn.fit(x_train, y_train)\n",
    "    y_pred_test = knn.predict(x_test)\n",
    "    test_error.append(MSE(y_pred_test, y_test, squared=False))\n",
    "    test_log_error.append(np.sqrt(MSLE(y_pred_test, y_test)))\n",
    "\n",
    "k = range(6, 20)\n",
    "for i in k:\n",
    "    elbow(i, x_train, y_train, x_test, y_test)"
   ]
  },
  {
   "cell_type": "code",
   "execution_count": 11,
   "id": "7db0f677",
   "metadata": {},
   "outputs": [
    {
     "data": {
      "image/png": "[encoded data removed]",
      "text/plain": [
       "<Figure size 432x288 with 1 Axes>"
      ]
     },
     "metadata": {
      "needs_background": "light"
     },
     "output_type": "display_data"
    }
   ],
   "source": [
    "# Plotting the elbow curve for test error\n",
    "plt.plot(k, test_error)\n",
    "plt.xlabel(\"K\")\n",
    "plt.ylabel(\"Test Error\")\n",
    "plt.title(\"Error for k values\")\n",
    "plt.show()"
   ]
  },
  {
   "cell_type": "code",
   "execution_count": 12,
   "id": "4edddcb6",
   "metadata": {},
   "outputs": [
    {
     "data": {
      "image/png": "[encoded data removed]",
      "text/plain": [
       "<Figure size 432x288 with 1 Axes>"
      ]
     },
     "metadata": {
      "needs_background": "light"
     },
     "output_type": "display_data"
    }
   ],
   "source": [
    "# Plotting the elbow curve for test log error\n",
    "plt.plot(k, test_log_error)\n",
    "plt.xlabel(\"K\")\n",
    "plt.ylabel(\"Test log Error\")\n",
    "plt.title(\"Error for k values\")\n",
    "plt.show()"
   ]
  },
  {
   "cell_type": "markdown",
   "id": "65ee389c",
   "metadata": {},
   "source": [
    "    The best value of k is 17 "
   ]
  },
  {
   "cell_type": "code",
   "execution_count": 14,
   "id": "e23f30ba",
   "metadata": {},
   "outputs": [
    {
     "name": "stdout",
     "output_type": "stream",
     "text": [
      "Train error:\n",
      "RMSE: 4021.423304122002, RMSLE: 0.8693437402604344\n",
      "Test error:\n",
      "RMSE: 3327.7816419814067, RMSLE: 0.893763601765688\n"
     ]
    }
   ],
   "source": [
    "# Model with best k value\n",
    "knn = KNN(n_neighbors=17)\n",
    "\n",
    "# Fit the model\n",
    "knn.fit(x_train, y_train)\n",
    "\n",
    "# Predict results\n",
    "y_pred_train_knn = knn.predict(x_train)\n",
    "y_pred_test_knn = knn.predict(x_test)\n",
    "\n",
    "knn_train_error = MSE(y_pred_train_knn, y_train, squared=False)\n",
    "knn_test_error = MSE(y_pred_test_knn, y_test, squared=False)\n",
    "knn_train_log_error = np.sqrt(MSLE(y_pred_train_knn, y_train))\n",
    "knn_test_log_error = np.sqrt(MSLE(y_pred_test_knn, y_test))\n",
    "\n",
    "print(f\"Train error:\\nRMSE: {knn_train_error}, RMSLE: {knn_train_log_error}\\n\\\n",
    "Test error:\\nRMSE: {knn_test_error}, RMSLE: {knn_test_log_error}\")"
   ]
  },
  {
   "cell_type": "markdown",
   "id": "79ee199d",
   "metadata": {},
   "source": [
    "# Linear Model  "
   ]
  },
  {
   "cell_type": "code",
   "execution_count": 15,
   "id": "c8ccc8af",
   "metadata": {},
   "outputs": [
    {
     "name": "stdout",
     "output_type": "stream",
     "text": [
      "Train error:\n",
      "RMSE: 4076.13353363044, RMSLE: 0.8867991874571813\n",
      "Test error:\n",
      "RMSE: 3137.3252056041156, RMSLE: 0.8874220907727645\n"
     ]
    }
   ],
   "source": [
    "# Importing linear regression\n",
    "from sklearn.linear_model import LinearRegression as LR\n",
    "\n",
    "# Fit the model\n",
    "lr = LR(normalize=True)\n",
    "lr.fit(x_train, y_train)\n",
    "\n",
    "# Predict results\n",
    "y_pred_train = lr.predict(x_train)\n",
    "y_pred_test = lr.predict(x_test)\n",
    "\n",
    "lr_train_error = MSE(y_pred_train, y_train, squared=False)\n",
    "lr_test_error = MSE(y_pred_test, y_test, squared=False)\n",
    "lr_train_log_error = np.sqrt(MSLE(y_pred_train, y_train))\n",
    "lr_test_log_error = np.sqrt(MSLE(y_pred_test, y_test))\n",
    "\n",
    "print(f\"Train error:\\nRMSE: {lr_train_error}, RMSLE: {lr_train_log_error}\\n\\\n",
    "Test error:\\nRMSE: {lr_test_error}, RMSLE: {lr_test_log_error}\")"
   ]
  },
  {
   "cell_type": "code",
   "execution_count": 16,
   "id": "129ad6da",
   "metadata": {},
   "outputs": [
    {
     "data": {
      "text/plain": [
       "array([201.83107512, 130.03532865,  10.8344321 ,  68.19086959,\n",
       "       -31.30479065,  24.70262763,  70.49843191])"
      ]
     },
     "execution_count": 16,
     "metadata": {},
     "output_type": "execute_result"
    }
   ],
   "source": [
    "lr.coef_"
   ]
  },
  {
   "cell_type": "code",
   "execution_count": 17,
   "id": "a0719cd7",
   "metadata": {},
   "outputs": [
    {
     "data": {
      "image/png": "[encoded data removed]",
      "text/plain": [
       "<Figure size 1152x504 with 1 Axes>"
      ]
     },
     "metadata": {
      "needs_background": "light"
     },
     "output_type": "display_data"
    }
   ],
   "source": [
    "# Plotting the coefficients\n",
    "plt.figure(figsize=(16, 7))\n",
    "plt.bar(range(len(x_train.columns)), lr.coef_)\n",
    "plt.xlabel(\"Variables\", size=12)\n",
    "plt.title(\"Coefficients of variables\", size=15)\n",
    "plt.ylabel(\"Coefficients\", size=12)\n",
    "plt.show()"
   ]
  },
  {
   "cell_type": "markdown",
   "id": "d937e759",
   "metadata": {},
   "source": [
    "# Regularization - Lasso \n",
    " "
   ]
  },
  {
   "cell_type": "code",
   "execution_count": 18,
   "id": "d3f2d53c",
   "metadata": {},
   "outputs": [],
   "source": [
    "# Using Lasso regression as there are less number of significant parameters\n",
    "from sklearn.linear_model import Lasso\n",
    "alpha = [1e-10, 1e-9, 1e-8, 1e-7, 1e-6, 1e-5, 1e-4, 1e-3, 1e-2, 1e-1, 0, 1, 2, 3, 4, 5, 6, 7, 8, 9, 10]\n",
    "\n",
    "train_error, test_error, train_log_error, test_log_error = [], [], [], []\n",
    "# Custom function to obtain error values\n",
    "def lasso(alpha, x_train, y_train, x_test, y_test):\n",
    "    LLR = Lasso(alpha=alpha, normalize=True)\n",
    "    # Fit the model\n",
    "    LLR.fit(x_train, y_train)\n",
    "    y_pred_train = LLR.predict(x_train)\n",
    "    y_pred_test = LLR.predict(x_test)\n",
    "    # Get errors\n",
    "    train_error.append(MSE(y_pred_train, y_train, squared=False))\n",
    "    test_error.append(MSE(y_pred_test, y_test, squared=False))\n",
    "    train_log_error.append(np.sqrt(MSLE(y_pred_train, y_train)))\n",
    "    test_log_error.append(np.sqrt(MSLE(y_pred_test, y_test)))\n",
    "\n",
    "for i in alpha:\n",
    "    lasso(i, x_train, y_train, x_test, y_test)"
   ]
  },
  {
   "cell_type": "code",
   "execution_count": 19,
   "id": "938e8672",
   "metadata": {},
   "outputs": [
    {
     "data": {
      "image/png": "[encoded data removed]",
      "text/plain": [
       "<Figure size 1080x504 with 1 Axes>"
      ]
     },
     "metadata": {
      "needs_background": "light"
     },
     "output_type": "display_data"
    }
   ],
   "source": [
    "# Plotting the errors\n",
    "alpha_val = [\"1e-10\", \"1e-9\", \"1e-8\", \"1e-7\", \"1e-6\", \"1e-5\", \"1e-4\", \"1e-3\", \"1e-2\", \"0.1\",\n",
    "             \"0\", \"1\", \"2\", \"3\", \"4\", \"5\", \"6\", \"7\", \"8\", \"9\", \"10\"]\n",
    "plt.figure(figsize=(15, 7))\n",
    "sns.lineplot(alpha_val, train_error)\n",
    "plt.title(\"RMSE for alpha (train) values\", size=15)\n",
    "plt.xlabel(\"Alpha\")\n",
    "plt.ylabel(\"Error\")\n",
    "plt.legend([\"Train\"])\n",
    "plt.show()"
   ]
  },
  {
   "cell_type": "code",
   "execution_count": 20,
   "id": "3e8a808f",
   "metadata": {},
   "outputs": [
    {
     "data": {
      "image/png": "[encoded data removed]",
      "text/plain": [
       "<Figure size 1080x504 with 1 Axes>"
      ]
     },
     "metadata": {
      "needs_background": "light"
     },
     "output_type": "display_data"
    }
   ],
   "source": [
    "plt.figure(figsize=(15, 7))\n",
    "sns.lineplot(alpha_val, test_error)\n",
    "plt.title(\"RMSE (test) for alpha values\", size=15)\n",
    "plt.xlabel(\"Alpha\")\n",
    "plt.ylabel(\"Error\")\n",
    "plt.legend([\"Test\"])\n",
    "plt.show()"
   ]
  },
  {
   "cell_type": "code",
   "execution_count": 21,
   "id": "0b752e56",
   "metadata": {},
   "outputs": [
    {
     "data": {
      "image/png": "[encoded data removed]",
      "text/plain": [
       "<Figure size 1080x504 with 1 Axes>"
      ]
     },
     "metadata": {
      "needs_background": "light"
     },
     "output_type": "display_data"
    }
   ],
   "source": [
    "plt.figure(figsize=(15, 7))\n",
    "plt.plot(alpha_val, train_log_error)\n",
    "plt.plot(alpha_val, test_log_error)\n",
    "plt.legend([\"train\", \"test\"])\n",
    "plt.ylabel(\"Log error\")\n",
    "plt.title(\"RMSLE for alpha values\", size=15)\n",
    "plt.xlabel(\"Aplha\")\n",
    "plt.show()"
   ]
  },
  {
   "cell_type": "code",
   "execution_count": 22,
   "id": "d3244f83",
   "metadata": {},
   "outputs": [
    {
     "name": "stdout",
     "output_type": "stream",
     "text": [
      "Train error:\n",
      "RMSE: 4076.9961765625135, RMSLE: 0.8857868437970989\n",
      "Test error:\n",
      "RMSE: 3138.821263527927, RMSLE: 0.8865575520756384\n"
     ]
    }
   ],
   "source": [
    "# Lasso Regression model when alpha is 0.1\n",
    "LLR = Lasso(alpha=0.1, normalize=True)\n",
    "# Fit the model\n",
    "LLR.fit(x_train, y_train)\n",
    "\n",
    "# Predict results\n",
    "y_pred_train_llr = LLR.predict(x_train)\n",
    "y_pred_test_llr = LLR.predict(x_test)\n",
    "\n",
    "llr_train_error = MSE(y_pred_train_llr, y_train, squared=False)\n",
    "llr_test_error = MSE(y_pred_test_llr, y_test, squared=False)\n",
    "llr_train_log_error = np.sqrt(MSLE(y_pred_train_llr, y_train))\n",
    "llr_test_log_error = np.sqrt(MSLE(y_pred_test_llr, y_test))\n",
    "\n",
    "print(f\"Train error:\\nRMSE: {llr_train_error}, RMSLE: {llr_train_log_error}\\n\\\n",
    "Test error:\\nRMSE: {llr_test_error}, RMSLE: {llr_test_log_error}\")"
   ]
  },
  {
   "cell_type": "markdown",
   "id": "70513d97",
   "metadata": {},
   "source": [
    "# Random Forest Model "
   ]
  },
  {
   "cell_type": "code",
   "execution_count": 23,
   "id": "59893563",
   "metadata": {},
   "outputs": [
    {
     "name": "stdout",
     "output_type": "stream",
     "text": [
      "Train error:\n",
      "RMSE: 3914.773069884043, RMSLE: 0.8470906486023579\n",
      "Test error:\n",
      "RMSE: 3354.4088772242776, RMSLE: 0.8969655775430107\n"
     ]
    }
   ],
   "source": [
    "# Importing random forest regressor \n",
    "from sklearn.ensemble import RandomForestRegressor\n",
    "\n",
    "# Fit the model\n",
    "RFR = RandomForestRegressor(n_jobs=-1, random_state=108)\n",
    "RFR.fit(x_train, y_train)\n",
    "\n",
    "# Predict results\n",
    "y_pred_train_rfr = RFR.predict(x_train)\n",
    "y_pred_test_rfr = RFR.predict(x_test)\n",
    "\n",
    "rfr_train_error = MSE(y_pred_train_rfr, y_train, squared=False)\n",
    "rfr_test_error = MSE(y_pred_test_rfr, y_test, squared=False)\n",
    "rfr_train_log_error = np.sqrt(MSLE(y_pred_train_rfr, y_train))\n",
    "rfr_test_log_error = np.sqrt(MSLE(y_pred_test_rfr, y_test))\n",
    "\n",
    "print(f\"Train error:\\nRMSE: {rfr_train_error}, RMSLE: {rfr_train_log_error}\\n\\\n",
    "Test error:\\nRMSE: {rfr_test_error}, RMSLE: {rfr_test_log_error}\")"
   ]
  },
  {
   "cell_type": "code",
   "execution_count": 24,
   "id": "74ffcc41",
   "metadata": {},
   "outputs": [
    {
     "data": {
      "text/plain": [
       "vendor_id          0.005777\n",
       "passenger_count    0.255674\n",
       "day_of_month       0.240738\n",
       "week_of_month      0.080025\n",
       "week_of_day        0.147024\n",
       "hour_of_day        0.242602\n",
       "month_of_year      0.028159\n",
       "dtype: float64"
      ]
     },
     "execution_count": 24,
     "metadata": {},
     "output_type": "execute_result"
    }
   ],
   "source": [
    "# Importance of each feature\n",
    "pd.Series(RFR.feature_importances_, index=x_train.columns)"
   ]
  },
  {
   "cell_type": "markdown",
   "id": "30b41139",
   "metadata": {},
   "source": [
    "### Tuning Hyperparameters using Random Search"
   ]
  },
  {
   "cell_type": "code",
   "execution_count": 25,
   "id": "1ec8a7af",
   "metadata": {},
   "outputs": [],
   "source": [
    "# Defining parameters for Random Search\n",
    "parameters = {\n",
    "    \"n_estimators\": [100, 200],\n",
    "    \"max_depth\": [5, 8, 9, 10, 11, 12, 13, 14, 15],\n",
    "    \"min_samples_leaf\": [35, 40, 45, 50],\n",
    "    \"min_samples_split\": [15, 20, 25, 30, 25, 40, 45, 50],\n",
    "    \"max_leaf_nodes\": [25, 30, 35, 40, 45, 50]\n",
    "}"
   ]
  },
  {
   "cell_type": "code",
   "execution_count": 26,
   "id": "409d4d0e",
   "metadata": {},
   "outputs": [],
   "source": [
    "# Importing Random Search\n",
    "from sklearn.model_selection import RandomizedSearchCV\n",
    "\n",
    "random_search_params = RandomizedSearchCV(estimator=RFR, param_distributions=parameters, n_iter=10, random_state=108, cv=3,\n",
    "                                         scoring=\"neg_mean_squared_error\", n_jobs=-1)"
   ]
  },
  {
   "cell_type": "code",
   "execution_count": 27,
   "id": "6eaf542f",
   "metadata": {},
   "outputs": [
    {
     "data": {
      "text/plain": [
       "RandomizedSearchCV(cv=3,\n",
       "                   estimator=RandomForestRegressor(n_jobs=-1, random_state=108),\n",
       "                   n_jobs=-1,\n",
       "                   param_distributions={'max_depth': [5, 8, 9, 10, 11, 12, 13,\n",
       "                                                      14, 15],\n",
       "                                        'max_leaf_nodes': [25, 30, 35, 40, 45,\n",
       "                                                           50],\n",
       "                                        'min_samples_leaf': [35, 40, 45, 50],\n",
       "                                        'min_samples_split': [15, 20, 25, 30,\n",
       "                                                              25, 40, 45, 50],\n",
       "                                        'n_estimators': [100, 200]},\n",
       "                   random_state=108, scoring='neg_mean_squared_error')"
      ]
     },
     "execution_count": 27,
     "metadata": {},
     "output_type": "execute_result"
    }
   ],
   "source": [
    "random_search_params.fit(x_train, y_train)"
   ]
  },
  {
   "cell_type": "code",
   "execution_count": 28,
   "id": "88ba249b",
   "metadata": {},
   "outputs": [
    {
     "data": {
      "text/plain": [
       "{'n_estimators': 100,\n",
       " 'min_samples_split': 20,\n",
       " 'min_samples_leaf': 50,\n",
       " 'max_leaf_nodes': 35,\n",
       " 'max_depth': 10}"
      ]
     },
     "execution_count": 28,
     "metadata": {},
     "output_type": "execute_result"
    }
   ],
   "source": [
    "random_search_params.best_params_"
   ]
  },
  {
   "cell_type": "code",
   "execution_count": 29,
   "id": "f1e8d483",
   "metadata": {},
   "outputs": [
    {
     "name": "stdout",
     "output_type": "stream",
     "text": [
      "Train error:\n",
      "RMSE: 4063.301415724563, RMSLE: 0.8799871686945085\n",
      "Test error:\n",
      "RMSE: 3143.4398972640565, RMSLE: 0.8810444224683587\n"
     ]
    }
   ],
   "source": [
    "# Building Random Forest model with best parameters\n",
    "\n",
    "# Fit the model\n",
    "RFR = RandomForestRegressor(n_estimators=100, max_depth=10, min_samples_split=20, min_samples_leaf=50,\n",
    "                            max_leaf_nodes=35, random_state=108)\n",
    "RFR.fit(x_train, y_train)\n",
    "\n",
    "# Predict results\n",
    "y_pred_train_rfr = RFR.predict(x_train)\n",
    "y_pred_test_rfr = RFR.predict(x_test)\n",
    "\n",
    "rfr_train_error = MSE(y_pred_train_rfr, y_train, squared=False)\n",
    "rfr_test_error = MSE(y_pred_test_rfr, y_test, squared=False)\n",
    "rfr_train_log_error = np.sqrt(MSLE(y_pred_train_rfr, y_train))\n",
    "rfr_test_log_error = np.sqrt(MSLE(y_pred_test_rfr, y_test))\n",
    "\n",
    "print(f\"Train error:\\nRMSE: {rfr_train_error}, RMSLE: {rfr_train_log_error}\\n\\\n",
    "Test error:\\nRMSE: {rfr_test_error}, RMSLE: {rfr_test_log_error}\")"
   ]
  },
  {
   "cell_type": "markdown",
   "id": "b20ac056",
   "metadata": {},
   "source": [
    "# Gradient Boosting Model "
   ]
  },
  {
   "cell_type": "code",
   "execution_count": 30,
   "id": "b1fa6835",
   "metadata": {},
   "outputs": [
    {
     "name": "stdout",
     "output_type": "stream",
     "text": [
      "Train error:\n",
      "RMSE: 4067.378904463719, RMSLE: 0.8785298945061432\n",
      "Test error:\n",
      "RMSE: 3137.423456545719, RMSLE: 0.8790276683082929\n"
     ]
    }
   ],
   "source": [
    "# Importing Gradient Boosting Regressor\n",
    "from sklearn.ensemble import GradientBoostingRegressor\n",
    "\n",
    "# Fit the model\n",
    "GBR = GradientBoostingRegressor(n_estimators=100, random_state=108)\n",
    "GBR.fit(x_train, y_train)\n",
    "\n",
    "# Predict results\n",
    "y_pred_train_gbr = GBR.predict(x_train)\n",
    "y_pred_test_gbr = GBR.predict(x_test)\n",
    "\n",
    "gbr_train_error = MSE(y_pred_train_gbr, y_train, squared=False)\n",
    "gbr_test_error = MSE(y_pred_test_gbr, y_test, squared=False)\n",
    "gbr_train_log_error = np.sqrt(MSLE(y_pred_train_gbr, y_train))\n",
    "gbr_test_log_error = np.sqrt(MSLE(y_pred_test_gbr, y_test))\n",
    "\n",
    "print(f\"Train error:\\nRMSE: {gbr_train_error}, RMSLE: {gbr_train_log_error}\\n\\\n",
    "Test error:\\nRMSE: {gbr_test_error}, RMSLE: {gbr_test_log_error}\")"
   ]
  },
  {
   "cell_type": "code",
   "execution_count": 31,
   "id": "08518bb2",
   "metadata": {},
   "outputs": [
    {
     "data": {
      "text/plain": [
       "vendor_id          0.134387\n",
       "passenger_count    0.016308\n",
       "day_of_month       0.338385\n",
       "week_of_month      0.132808\n",
       "week_of_day        0.045636\n",
       "hour_of_day        0.322019\n",
       "month_of_year      0.010456\n",
       "dtype: float64"
      ]
     },
     "execution_count": 31,
     "metadata": {},
     "output_type": "execute_result"
    }
   ],
   "source": [
    "# Importance of each feature\n",
    "pd.Series(GBR.feature_importances_, index=x_train.columns)"
   ]
  },
  {
   "cell_type": "markdown",
   "id": "dd02544a",
   "metadata": {},
   "source": [
    "# Averaging "
   ]
  },
  {
   "cell_type": "code",
   "execution_count": 32,
   "id": "ac61c43b",
   "metadata": {},
   "outputs": [],
   "source": [
    "# Importing mean\n",
    "from statistics import mean\n",
    "\n",
    "# Appending mean (average) into a numpy array\n",
    "pred = np.array([])\n",
    "for i in range(0, len(x_test)):\n",
    "    pred = np.append(pred, mean([y_pred_test_knn[i], y_pred_test_llr[i], y_pred_test_rfr[i], y_pred_test_gbr[i]]))"
   ]
  },
  {
   "cell_type": "code",
   "execution_count": 33,
   "id": "9ee392c9",
   "metadata": {},
   "outputs": [
    {
     "name": "stdout",
     "output_type": "stream",
     "text": [
      "Error for KNN: 3327.7816419814067\n",
      "Error for Lasso Regression: 3138.821263527927\n",
      "Error for Random Forest: 3143.4398972640565\n",
      "Error for Gradient Boosting: 3137.423456545719\n",
      "\n",
      "Averaged Error: 3152.601832555099\n"
     ]
    }
   ],
   "source": [
    "# Original error\n",
    "print(f\"Error for KNN: {knn_test_error}\\nError for Lasso Regression: {llr_test_error}\\nError for Random Forest: \\\n",
    "{rfr_test_error}\\nError for Gradient Boosting: {gbr_test_error}\\n\")\n",
    "\n",
    "# Averaged error\n",
    "print(f\"Averaged Error: {MSE(pred, y_test, squared=False)}\")"
   ]
  },
  {
   "cell_type": "markdown",
   "id": "aeb825ab",
   "metadata": {},
   "source": [
    "# Weighted Averaging "
   ]
  },
  {
   "cell_type": "code",
   "execution_count": 34,
   "id": "be6a116e",
   "metadata": {},
   "outputs": [],
   "source": [
    "# Appending mean into a numpy array (weight 1 to knn, 2 to lasso regression and random forest and 3 to gradient bossting)\n",
    "pred = np.array([])\n",
    "for i in range(0, len(x_test)):\n",
    "    pred = np.append(pred, mean([y_pred_test_knn[i], y_pred_test_llr[i], y_pred_test_llr[i], y_pred_test_rfr[i],\n",
    "                                 y_pred_test_rfr[i], y_pred_test_gbr[i], y_pred_test_gbr[i], y_pred_test_gbr[i]]))"
   ]
  },
  {
   "cell_type": "code",
   "execution_count": 35,
   "id": "eacaca23",
   "metadata": {},
   "outputs": [
    {
     "name": "stdout",
     "output_type": "stream",
     "text": [
      "Error for KNN: 3327.7816419814067\n",
      "Error for Lasso Regression: 3138.821263527927\n",
      "Error for Random Forest: 3143.4398972640565\n",
      "Error for Gradient Boosting: 3137.423456545719\n",
      "\n",
      "Averaged Error: 3142.2472080668786\n"
     ]
    }
   ],
   "source": [
    "# Original error\n",
    "print(f\"Error for KNN: {knn_test_error}\\nError for Lasso Regression: {llr_test_error}\\nError for Random Forest: \\\n",
    "{rfr_test_error}\\nError for Gradient Boosting: {gbr_test_error}\\n\")\n",
    "\n",
    "# Averaged error\n",
    "print(f\"Averaged Error: {MSE(pred, y_test, squared=False)}\")"
   ]
  },
  {
   "cell_type": "markdown",
   "id": "509cdf1e",
   "metadata": {},
   "source": [
    "# Rank Averaging "
   ]
  },
  {
   "cell_type": "code",
   "execution_count": 36,
   "id": "4441ddbb",
   "metadata": {},
   "outputs": [
    {
     "data": {
      "text/html": [
       "<div>\n",
       "<style scoped>\n",
       "    .dataframe tbody tr th:only-of-type {\n",
       "        vertical-align: middle;\n",
       "    }\n",
       "\n",
       "    .dataframe tbody tr th {\n",
       "        vertical-align: top;\n",
       "    }\n",
       "\n",
       "    .dataframe thead th {\n",
       "        text-align: right;\n",
       "    }\n",
       "</style>\n",
       "<table border=\"1\" class=\"dataframe\">\n",
       "  <thead>\n",
       "    <tr style=\"text-align: right;\">\n",
       "      <th></th>\n",
       "      <th>Error</th>\n",
       "      <th>Rank</th>\n",
       "      <th>Weight</th>\n",
       "    </tr>\n",
       "  </thead>\n",
       "  <tbody>\n",
       "    <tr>\n",
       "      <th>1</th>\n",
       "      <td>3327.781642</td>\n",
       "      <td>1</td>\n",
       "      <td>0.1</td>\n",
       "    </tr>\n",
       "    <tr>\n",
       "      <th>2</th>\n",
       "      <td>3138.821264</td>\n",
       "      <td>2</td>\n",
       "      <td>0.2</td>\n",
       "    </tr>\n",
       "    <tr>\n",
       "      <th>3</th>\n",
       "      <td>3143.439897</td>\n",
       "      <td>3</td>\n",
       "      <td>0.3</td>\n",
       "    </tr>\n",
       "    <tr>\n",
       "      <th>4</th>\n",
       "      <td>3137.423457</td>\n",
       "      <td>4</td>\n",
       "      <td>0.4</td>\n",
       "    </tr>\n",
       "  </tbody>\n",
       "</table>\n",
       "</div>"
      ],
      "text/plain": [
       "         Error  Rank  Weight\n",
       "1  3327.781642     1     0.1\n",
       "2  3138.821264     2     0.2\n",
       "3  3143.439897     3     0.3\n",
       "4  3137.423457     4     0.4"
      ]
     },
     "execution_count": 36,
     "metadata": {},
     "output_type": "execute_result"
    }
   ],
   "source": [
    "# Creating dataframe with ranks for error values of models\n",
    "index = [1, 2, 3, 4]\n",
    "errors = [knn_test_error, llr_test_error, rfr_test_error, gbr_test_error]\n",
    "df = pd.DataFrame({\"Error\": errors}, index=index)\n",
    "\n",
    "# Sorting values, assigning ranks and calculating weights\n",
    "df.sort_values(\"Error\")\n",
    "df[\"Rank\"] = range(1, 5)\n",
    "df['Weight'] = df['Rank'] / df['Rank'].sum()\n",
    "df"
   ]
  },
  {
   "cell_type": "code",
   "execution_count": 37,
   "id": "55d3e933",
   "metadata": {},
   "outputs": [
    {
     "name": "stdout",
     "output_type": "stream",
     "text": [
      "Averaged Error: 3141.281247516399\n"
     ]
    }
   ],
   "source": [
    "# Calculating values\n",
    "knn = y_pred_test_knn * float(df.loc[[1],['Weight']].values)\n",
    "llr = y_pred_test_llr * float(df.loc[[2],['Weight']].values)\n",
    "rfr = y_pred_test_rfr * float(df.loc[[3],['Weight']].values)\n",
    "gbr = y_pred_test_gbr * float(df.loc[[4],['Weight']].values)\n",
    "\n",
    "# Averaging\n",
    "pred = knn + llr + rfr + gbr\n",
    "print(f\"Averaged Error: {MSE(pred, y_test, squared=False)}\")"
   ]
  },
  {
   "cell_type": "markdown",
   "id": "aad90b44",
   "metadata": {},
   "source": [
    "    Hence, rank averaging performs the best all the above models and techniques with error of 3141"
   ]
  }
 ],
 "metadata": {
  "kernelspec": {
   "display_name": "Python 3",
   "language": "python",
   "name": "python3"
  },
  "language_info": {
   "codemirror_mode": {
    "name": "ipython",
    "version": 3
   },
   "file_extension": ".py",
   "mimetype": "text/x-python",
   "name": "python",
   "nbconvert_exporter": "python",
   "pygments_lexer": "ipython3",
   "version": "3.8.8"
  }
 },
 "nbformat": 4,
 "nbformat_minor": 5
}
